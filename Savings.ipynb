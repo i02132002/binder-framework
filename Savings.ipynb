{
 "cells": [
  {
   "cell_type": "code",
   "execution_count": 3,
   "metadata": {},
   "outputs": [],
   "source": [
    "import numpy as np\n",
    "import pandas as pd"
   ]
  },
  {
   "cell_type": "code",
   "execution_count": 4,
   "metadata": {},
   "outputs": [],
   "source": [
    "df = pd.read_csv('Value_of_Energy_Cost_Savings_Program_Savings_for_Businesses_-_FY2020.csv')"
   ]
  },
  {
   "cell_type": "code",
   "execution_count": 10,
   "metadata": {},
   "outputs": [
    {
     "data": {
      "text/html": [
       "<div>\n",
       "<style scoped>\n",
       "    .dataframe tbody tr th:only-of-type {\n",
       "        vertical-align: middle;\n",
       "    }\n",
       "\n",
       "    .dataframe tbody tr th {\n",
       "        vertical-align: top;\n",
       "    }\n",
       "\n",
       "    .dataframe thead th {\n",
       "        text-align: right;\n",
       "    }\n",
       "</style>\n",
       "<table border=\"1\" class=\"dataframe\">\n",
       "  <thead>\n",
       "    <tr style=\"text-align: right;\">\n",
       "      <th></th>\n",
       "      <th>Company Name</th>\n",
       "      <th>company contact</th>\n",
       "      <th>company email</th>\n",
       "      <th>company phone</th>\n",
       "      <th>Address</th>\n",
       "      <th>City</th>\n",
       "      <th>State</th>\n",
       "      <th>Postcode</th>\n",
       "      <th>Industry</th>\n",
       "      <th>Industry descr</th>\n",
       "      <th>...</th>\n",
       "      <th>Savings from beginning receiving benefits</th>\n",
       "      <th>Borough</th>\n",
       "      <th>Latitude</th>\n",
       "      <th>Longitude</th>\n",
       "      <th>Community Board</th>\n",
       "      <th>Council District</th>\n",
       "      <th>Census Tract</th>\n",
       "      <th>BIN</th>\n",
       "      <th>BBL</th>\n",
       "      <th>NTA</th>\n",
       "    </tr>\n",
       "  </thead>\n",
       "  <tbody>\n",
       "    <tr>\n",
       "      <th>0</th>\n",
       "      <td>1 State Street</td>\n",
       "      <td>David Neiburg</td>\n",
       "      <td>eskoblo@energyspec.com</td>\n",
       "      <td>7186779077</td>\n",
       "      <td>1114 Avenue J</td>\n",
       "      <td>Brooklyn</td>\n",
       "      <td>NY</td>\n",
       "      <td>11230</td>\n",
       "      <td>Commercial</td>\n",
       "      <td>35 story building</td>\n",
       "      <td>...</td>\n",
       "      <td>349.78</td>\n",
       "      <td>Brooklyn</td>\n",
       "      <td>40.624784</td>\n",
       "      <td>-73.964920</td>\n",
       "      <td>314.0</td>\n",
       "      <td>44.0</td>\n",
       "      <td>534.0</td>\n",
       "      <td>3179818.0</td>\n",
       "      <td>3.067130e+09</td>\n",
       "      <td>Midwood</td>\n",
       "    </tr>\n",
       "    <tr>\n",
       "      <th>1</th>\n",
       "      <td>100 Church LLC</td>\n",
       "      <td>Edward A. Carroll</td>\n",
       "      <td>NaN</td>\n",
       "      <td>2125663000</td>\n",
       "      <td>100 Church Street</td>\n",
       "      <td>NY</td>\n",
       "      <td>NY</td>\n",
       "      <td>10007</td>\n",
       "      <td>Commercial</td>\n",
       "      <td>21 Floors</td>\n",
       "      <td>...</td>\n",
       "      <td>4423698.05</td>\n",
       "      <td>New York</td>\n",
       "      <td>40.712968</td>\n",
       "      <td>-74.009490</td>\n",
       "      <td>101.0</td>\n",
       "      <td>1.0</td>\n",
       "      <td>21.0</td>\n",
       "      <td>1001409.0</td>\n",
       "      <td>1.001250e+09</td>\n",
       "      <td>SoHo-TriBeCa-Civic Center-Little Italy</td>\n",
       "    </tr>\n",
       "    <tr>\n",
       "      <th>2</th>\n",
       "      <td>100 Wall Investments</td>\n",
       "      <td>Jerry Branam</td>\n",
       "      <td>NaN</td>\n",
       "      <td>2122487160</td>\n",
       "      <td>96 Wall Street</td>\n",
       "      <td>New York</td>\n",
       "      <td>NY</td>\n",
       "      <td>10005</td>\n",
       "      <td>Landlord</td>\n",
       "      <td>NaN</td>\n",
       "      <td>...</td>\n",
       "      <td>1814542.62</td>\n",
       "      <td>New York</td>\n",
       "      <td>40.705052</td>\n",
       "      <td>-74.007199</td>\n",
       "      <td>101.0</td>\n",
       "      <td>1.0</td>\n",
       "      <td>7.0</td>\n",
       "      <td>1000875.0</td>\n",
       "      <td>1.000380e+09</td>\n",
       "      <td>Battery Park City-Lower Manhattan</td>\n",
       "    </tr>\n",
       "    <tr>\n",
       "      <th>3</th>\n",
       "      <td>1-10 Bush Terminal Owner LP</td>\n",
       "      <td>Andrew Kimball</td>\n",
       "      <td>akimball@industrycity.com</td>\n",
       "      <td>3474178429</td>\n",
       "      <td>220 36th St, Suite 2A</td>\n",
       "      <td>Brooklyn</td>\n",
       "      <td>NY</td>\n",
       "      <td>11232</td>\n",
       "      <td>Landlord</td>\n",
       "      <td>Special Eligible Premises for eligible businesses</td>\n",
       "      <td>...</td>\n",
       "      <td>6755.31</td>\n",
       "      <td>Brooklyn</td>\n",
       "      <td>40.656061</td>\n",
       "      <td>-74.007334</td>\n",
       "      <td>307.0</td>\n",
       "      <td>38.0</td>\n",
       "      <td>2.0</td>\n",
       "      <td>3398687.0</td>\n",
       "      <td>3.006950e+09</td>\n",
       "      <td>Sunset Park West</td>\n",
       "    </tr>\n",
       "    <tr>\n",
       "      <th>4</th>\n",
       "      <td>120 Broadway Acquisitions JV, LLC (Ldmk)</td>\n",
       "      <td>Carl Letich</td>\n",
       "      <td>clettich@silvprop.com</td>\n",
       "      <td>2124064020</td>\n",
       "      <td>120 Broadway</td>\n",
       "      <td>New York</td>\n",
       "      <td>NY</td>\n",
       "      <td>10271</td>\n",
       "      <td>Commercial</td>\n",
       "      <td>NaN</td>\n",
       "      <td>...</td>\n",
       "      <td>3293055.08</td>\n",
       "      <td>New York</td>\n",
       "      <td>40.708546</td>\n",
       "      <td>-74.011041</td>\n",
       "      <td>101.0</td>\n",
       "      <td>1.0</td>\n",
       "      <td>7.0</td>\n",
       "      <td>1001026.0</td>\n",
       "      <td>1.000478e+09</td>\n",
       "      <td>Battery Park City-Lower Manhattan</td>\n",
       "    </tr>\n",
       "  </tbody>\n",
       "</table>\n",
       "<p>5 rows × 26 columns</p>\n",
       "</div>"
      ],
      "text/plain": [
       "                               Company Name    company contact  \\\n",
       "0                            1 State Street      David Neiburg   \n",
       "1                            100 Church LLC  Edward A. Carroll   \n",
       "2                      100 Wall Investments       Jerry Branam   \n",
       "3               1-10 Bush Terminal Owner LP     Andrew Kimball   \n",
       "4  120 Broadway Acquisitions JV, LLC (Ldmk)        Carl Letich   \n",
       "\n",
       "               company email company phone                Address      City  \\\n",
       "0     eskoblo@energyspec.com    7186779077          1114 Avenue J  Brooklyn   \n",
       "1                        NaN    2125663000      100 Church Street        NY   \n",
       "2                        NaN    2122487160         96 Wall Street  New York   \n",
       "3  akimball@industrycity.com    3474178429  220 36th St, Suite 2A  Brooklyn   \n",
       "4      clettich@silvprop.com    2124064020           120 Broadway  New York   \n",
       "\n",
       "  State  Postcode    Industry  \\\n",
       "0    NY     11230  Commercial   \n",
       "1    NY     10007  Commercial   \n",
       "2    NY     10005    Landlord   \n",
       "3    NY     11232    Landlord   \n",
       "4    NY     10271  Commercial   \n",
       "\n",
       "                                      Industry descr  ...  \\\n",
       "0                                  35 story building  ...   \n",
       "1                                          21 Floors  ...   \n",
       "2                                                NaN  ...   \n",
       "3  Special Eligible Premises for eligible businesses  ...   \n",
       "4                                                NaN  ...   \n",
       "\n",
       "  Savings from beginning receiving benefits   Borough   Latitude  Longitude  \\\n",
       "0                                    349.78  Brooklyn  40.624784 -73.964920   \n",
       "1                                4423698.05  New York  40.712968 -74.009490   \n",
       "2                                1814542.62  New York  40.705052 -74.007199   \n",
       "3                                   6755.31  Brooklyn  40.656061 -74.007334   \n",
       "4                                3293055.08  New York  40.708546 -74.011041   \n",
       "\n",
       "  Community Board  Council District  Census Tract        BIN           BBL  \\\n",
       "0           314.0              44.0         534.0  3179818.0  3.067130e+09   \n",
       "1           101.0               1.0          21.0  1001409.0  1.001250e+09   \n",
       "2           101.0               1.0           7.0  1000875.0  1.000380e+09   \n",
       "3           307.0              38.0           2.0  3398687.0  3.006950e+09   \n",
       "4           101.0               1.0           7.0  1001026.0  1.000478e+09   \n",
       "\n",
       "                                      NTA  \n",
       "0                                 Midwood  \n",
       "1  SoHo-TriBeCa-Civic Center-Little Italy  \n",
       "2       Battery Park City-Lower Manhattan  \n",
       "3                        Sunset Park West  \n",
       "4       Battery Park City-Lower Manhattan  \n",
       "\n",
       "[5 rows x 26 columns]"
      ]
     },
     "execution_count": 10,
     "metadata": {},
     "output_type": "execute_result"
    }
   ],
   "source": [
    "df.head()"
   ]
  },
  {
   "cell_type": "markdown",
   "metadata": {},
   "source": [
    "# Number of unique comapny names"
   ]
  },
  {
   "cell_type": "code",
   "execution_count": 9,
   "metadata": {
    "scrolled": true
   },
   "outputs": [
    {
     "data": {
      "text/plain": [
       "Index(['Company Name', 'company contact', 'company email', 'company phone',\n",
       "       'Address', 'City', 'State', 'Postcode', 'Industry', 'Industry descr',\n",
       "       'Company Type', 'Current fulltime', 'Job created', 'Job retain',\n",
       "       'Effective Date', 'Total Savings',\n",
       "       'Savings from beginning receiving benefits', 'Borough', 'Latitude',\n",
       "       'Longitude', 'Community Board', 'Council District', 'Census Tract',\n",
       "       'BIN', 'BBL', 'NTA'],\n",
       "      dtype='object')"
      ]
     },
     "execution_count": 9,
     "metadata": {},
     "output_type": "execute_result"
    }
   ],
   "source": [
    "df.columns"
   ]
  },
  {
   "cell_type": "code",
   "execution_count": 7,
   "metadata": {},
   "outputs": [
    {
     "data": {
      "text/plain": [
       "439"
      ]
     },
     "execution_count": 7,
     "metadata": {},
     "output_type": "execute_result"
    }
   ],
   "source": [
    "df['Company Name'].nunique()"
   ]
  },
  {
   "cell_type": "markdown",
   "metadata": {},
   "source": [
    "# Number of jobs in Queens"
   ]
  },
  {
   "cell_type": "code",
   "execution_count": 23,
   "metadata": {},
   "outputs": [
    {
     "data": {
      "text/plain": [
       "173"
      ]
     },
     "execution_count": 23,
     "metadata": {},
     "output_type": "execute_result"
    }
   ],
   "source": [
    "df[df['Borough'] == 'Queens'].index.size"
   ]
  },
  {
   "cell_type": "markdown",
   "metadata": {},
   "source": [
    "# Number of unique email domains"
   ]
  },
  {
   "cell_type": "code",
   "execution_count": 162,
   "metadata": {},
   "outputs": [],
   "source": [
    "def filter_email_format(row):\n",
    "    return len(row.split('@',1))>1"
   ]
  },
  {
   "cell_type": "code",
   "execution_count": 169,
   "metadata": {},
   "outputs": [],
   "source": [
    "def get_domain(row):\n",
    "    return row.split('@',1)[1]"
   ]
  },
  {
   "cell_type": "code",
   "execution_count": 165,
   "metadata": {},
   "outputs": [],
   "source": [
    "filter_naemails = df['company email'].dropna()"
   ]
  },
  {
   "cell_type": "code",
   "execution_count": 166,
   "metadata": {},
   "outputs": [],
   "source": [
    "filter_shortemails = filter_naemails[filter_naemails.apply(filter_email_format)]"
   ]
  },
  {
   "cell_type": "code",
   "execution_count": 172,
   "metadata": {},
   "outputs": [
    {
     "data": {
      "text/plain": [
       "356"
      ]
     },
     "execution_count": 172,
     "metadata": {},
     "output_type": "execute_result"
    }
   ],
   "source": [
    "filter_shortemails.apply(get_domain).nunique()"
   ]
  },
  {
   "cell_type": "markdown",
   "metadata": {},
   "source": [
    "# Total savings and total fulltime jobs for NTAs with at least 5 businesses"
   ]
  },
  {
   "cell_type": "code",
   "execution_count": 216,
   "metadata": {},
   "outputs": [],
   "source": [
    "ntas = df.groupby('NTA')['Company Name'].agg([len])"
   ]
  },
  {
   "cell_type": "code",
   "execution_count": 276,
   "metadata": {},
   "outputs": [],
   "source": [
    "ntas_gt5 = ntas[ntas.len >= 5]\n",
    "ntas_gt5_idx = ntas_gt5.index"
   ]
  },
  {
   "cell_type": "code",
   "execution_count": 269,
   "metadata": {
    "scrolled": true
   },
   "outputs": [],
   "source": [
    "savings = df.groupby('NTA')['Total Savings'].mean()"
   ]
  },
  {
   "cell_type": "code",
   "execution_count": 294,
   "metadata": {
    "scrolled": true
   },
   "outputs": [],
   "source": [
    "savings_gt5 = savings[ntas_gt5_idx]"
   ]
  },
  {
   "cell_type": "code",
   "execution_count": 292,
   "metadata": {},
   "outputs": [],
   "source": [
    "jobs = df.groupby('NTA')['Current fulltime'].mean()"
   ]
  },
  {
   "cell_type": "code",
   "execution_count": 295,
   "metadata": {
    "scrolled": true
   },
   "outputs": [],
   "source": [
    "jobs_gt5 = jobs[ntas_gt5_idx]"
   ]
  },
  {
   "cell_type": "code",
   "execution_count": 309,
   "metadata": {},
   "outputs": [],
   "source": [
    "result = pd.concat([savings_gt5, jobs_gt5], axis=1)"
   ]
  },
  {
   "cell_type": "code",
   "execution_count": 310,
   "metadata": {},
   "outputs": [],
   "source": [
    "result.to_csv('savings_result.csv')"
   ]
  }
 ],
 "metadata": {
  "kernelspec": {
   "display_name": "Python 3",
   "language": "python",
   "name": "python3"
  },
  "language_info": {
   "codemirror_mode": {
    "name": "ipython",
    "version": 3
   },
   "file_extension": ".py",
   "mimetype": "text/x-python",
   "name": "python",
   "nbconvert_exporter": "python",
   "pygments_lexer": "ipython3",
   "version": "3.7.4"
  }
 },
 "nbformat": 4,
 "nbformat_minor": 2
}
